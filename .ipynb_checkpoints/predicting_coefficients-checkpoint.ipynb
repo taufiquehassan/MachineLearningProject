{
 "cells": [
  {
   "cell_type": "code",
   "execution_count": 44,
   "metadata": {},
   "outputs": [],
   "source": [
    "#importing dependencies\n",
    "from sklearn.linear_model import LinearRegression\n",
    "import random"
   ]
  },
  {
   "cell_type": "code",
   "execution_count": 45,
   "metadata": {},
   "outputs": [],
   "source": [
    "#creating empty list\n",
    "feature_set = []\n",
    "target_set = []"
   ]
  },
  {
   "cell_type": "code",
   "execution_count": 46,
   "metadata": {},
   "outputs": [],
   "source": [
    "#get number of rows from datasets\n",
    "\n",
    "number_of_rows = 200\n",
    "\n",
    "#limit the possible values of the dataset\n",
    "randum_number_limit = 2000"
   ]
  },
  {
   "cell_type": "code",
   "execution_count": 47,
   "metadata": {},
   "outputs": [],
   "source": [
    "#create the dataset\n",
    "#create the feature dataset\n",
    "\n",
    "for i in range(0,number_of_rows):\n",
    "    x= random.randint(0, randum_number_limit)\n",
    "    y= random.randint(0, randum_number_limit)\n",
    "    z= random.randint(0, randum_number_limit)\n",
    "\n",
    "#create a liner function for the target dataset\n",
    "\n",
    "    funciton = (10*x)+(2*y)+(3*z)\n",
    "    feature_set.append([x,y,z])\n",
    "    target_set.append(funciton)"
   ]
  },
  {
   "cell_type": "code",
   "execution_count": 48,
   "metadata": {},
   "outputs": [
    {
     "data": {
      "text/plain": [
       "LinearRegression(copy_X=True, fit_intercept=True, n_jobs=1, normalize=False)"
      ]
     },
     "execution_count": 48,
     "metadata": {},
     "output_type": "execute_result"
    }
   ],
   "source": [
    "#create the linear regression model\n",
    "\n",
    "model = LinearRegression()\n",
    "model.fit(feature_set, target_set)\n"
   ]
  },
  {
   "cell_type": "code",
   "execution_count": 49,
   "metadata": {},
   "outputs": [
    {
     "name": "stdout",
     "output_type": "stream",
     "text": [
      "Prediction:[100.]coefficient:[10.  2.  3.]\n"
     ]
    }
   ],
   "source": [
    "#create the test data\n",
    "test_set = [[8,10,0]]\n",
    "\n",
    "prediction = model.predict(test_set)\n",
    "\n",
    "print ('Prediction:' +str(prediction) + \"coefficient:\" + str(model.coef_))\n",
    "\n",
    "\n"
   ]
  },
  {
   "cell_type": "code",
   "execution_count": null,
   "metadata": {},
   "outputs": [],
   "source": []
  }
 ],
 "metadata": {
  "kernelspec": {
   "display_name": "Python 3",
   "language": "python",
   "name": "python3"
  },
  "language_info": {
   "codemirror_mode": {
    "name": "ipython",
    "version": 3
   },
   "file_extension": ".py",
   "mimetype": "text/x-python",
   "name": "python",
   "nbconvert_exporter": "python",
   "pygments_lexer": "ipython3",
   "version": "3.7.0"
  }
 },
 "nbformat": 4,
 "nbformat_minor": 2
}
